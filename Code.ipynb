{
 "cells": [
  {
   "cell_type": "code",
   "execution_count": 11,
   "id": "f2fd23aa",
   "metadata": {},
   "outputs": [],
   "source": [
    "import os\n",
    "import cv2 as cv\n",
    "import numpy as np\n",
    "import matplotlib.pyplot as plt\n",
    "from keras.utils import to_categorical\n",
    "import numpy as np"
   ]
  },
  {
   "cell_type": "markdown",
   "id": "2850a2c9",
   "metadata": {},
   "source": [
    "# Images to Array: "
   ]
  },
  {
   "cell_type": "code",
   "execution_count": 12,
   "id": "4a3e418a",
   "metadata": {},
   "outputs": [],
   "source": [
    "def images_to_array(folder, name):\n",
    "    for image in os.listdir(folder):\n",
    "        picture = cv.imread(os.path.join(folder, image))\n",
    "        resized = cv.resize(picture, (48, 48), interpolation=cv.INTER_AREA)\n",
    "        gray = cv.cvtColor(resized, cv.COLOR_RGB2GRAY)\n",
    "        pic_array = np.array(gray)\n",
    "        x_train.append(pic_array)\n",
    "        y_train.append(categories[name])\n",
    "        \n",
    "def show_image(index, x, y):\n",
    "    plt.imshow(x[index])\n",
    "    plt.show()\n",
    "    print(y[index])"
   ]
  },
  {
   "cell_type": "code",
   "execution_count": 13,
   "id": "4588dc79",
   "metadata": {},
   "outputs": [],
   "source": [
    "happy = 'Dataset/train/happy'\n",
    "angry = 'Dataset/train/angry'\n",
    "sad = 'Dataset/train/sad'\n",
    "disgust = 'Dataset/train/disgust'\n",
    "fear = 'Dataset/train/fear'\n",
    "neutral = 'Dataset/train/neutral'\n",
    "surprise = 'Dataset/train/surprise'\n",
    "\n",
    "categories = {'angry' : 0, 'disgust': 1, 'fear' : 2, 'happy' : 3, 'neutral': 4, 'sad' : 5, 'surprise' : 6}"
   ]
  },
  {
   "cell_type": "code",
   "execution_count": 14,
   "id": "d94a5217",
   "metadata": {},
   "outputs": [],
   "source": [
    "x_train = [] # x_train Images\n",
    "y_train = [] # y_train labels"
   ]
  },
  {
   "cell_type": "code",
   "execution_count": 15,
   "id": "d1b349df",
   "metadata": {},
   "outputs": [],
   "source": [
    "images_to_array(happy, 'happy')"
   ]
  },
  {
   "cell_type": "code",
   "execution_count": 16,
   "id": "5b0fb014",
   "metadata": {},
   "outputs": [],
   "source": [
    "images_to_array(angry, 'angry')\n",
    "images_to_array(sad, 'sad')\n",
    "images_to_array(disgust, 'disgust')\n",
    "images_to_array(fear, 'fear')\n",
    "images_to_array(neutral, 'neutral')\n",
    "images_to_array(surprise, 'surprise')"
   ]
  },
  {
   "cell_type": "code",
   "execution_count": 17,
   "id": "68179b28",
   "metadata": {},
   "outputs": [],
   "source": [
    "x_train = np.array(x_train)"
   ]
  },
  {
   "cell_type": "code",
   "execution_count": 18,
   "id": "d3e6798e",
   "metadata": {},
   "outputs": [
    {
     "data": {
      "text/plain": [
       "(28709, 48, 48)"
      ]
     },
     "execution_count": 18,
     "metadata": {},
     "output_type": "execute_result"
    }
   ],
   "source": [
    "x_train.shape"
   ]
  },
  {
   "cell_type": "code",
   "execution_count": 19,
   "id": "d8d8cadd",
   "metadata": {},
   "outputs": [
    {
     "data": {
      "text/plain": [
       "<matplotlib.image.AxesImage at 0x23e4e572520>"
      ]
     },
     "execution_count": 19,
     "metadata": {},
     "output_type": "execute_result"
    },
    {
     "data": {
      "image/png": "[encoded data removed]",
      "text/plain": [
       "<Figure size 432x288 with 1 Axes>"
      ]
     },
     "metadata": {
      "needs_background": "light"
     },
     "output_type": "display_data"
    }
   ],
   "source": [
    "plt.imshow(x_train[0])"
   ]
  },
  {
   "cell_type": "code",
   "execution_count": 20,
   "id": "c07ed853",
   "metadata": {},
   "outputs": [
    {
     "data": {
      "text/plain": [
       "<matplotlib.image.AxesImage at 0x23e4a39bd90>"
      ]
     },
     "execution_count": 20,
     "metadata": {},
     "output_type": "execute_result"
    },
    {
     "data": {
      "image/png": "[encoded data removed]",
      "text/plain": [
       "<Figure size 432x288 with 1 Axes>"
      ]
     },
     "metadata": {
      "needs_background": "light"
     },
     "output_type": "display_data"
    }
   ],
   "source": [
    "plt.imshow(x_train[22708])"
   ]
  },
  {
   "cell_type": "code",
   "execution_count": 21,
   "id": "63233f64",
   "metadata": {},
   "outputs": [
    {
     "name": "stdout",
     "output_type": "stream",
     "text": [
      "28709\n",
      "28709\n"
     ]
    }
   ],
   "source": [
    "print(len(x_train))\n",
    "print(len(y_train))"
   ]
  },
  {
   "cell_type": "markdown",
   "id": "58cfad2a",
   "metadata": {},
   "source": [
    "# Data Splitting"
   ]
  },
  {
   "cell_type": "code",
   "execution_count": 22,
   "id": "41c0d0db",
   "metadata": {},
   "outputs": [],
   "source": [
    "from sklearn.model_selection import train_test_split\n",
    "X_train, X_test, Y_train, Y_test = train_test_split(x_train, y_train, test_size = 0.2)"
   ]
  },
  {
   "cell_type": "markdown",
   "id": "71974617",
   "metadata": {},
   "source": [
    "# One-hot Encoding"
   ]
  },
  {
   "cell_type": "code",
   "execution_count": 23,
   "id": "2d07b22c",
   "metadata": {},
   "outputs": [],
   "source": [
    "Y_train = to_categorical(Y_train, num_classes = 7)\n",
    "Y_test = to_categorical(Y_test, num_classes = 7)"
   ]
  },
  {
   "cell_type": "code",
   "execution_count": 24,
   "id": "47800926",
   "metadata": {},
   "outputs": [
    {
     "name": "stdout",
     "output_type": "stream",
     "text": [
      "(22967, 48, 48)\n",
      "(5742, 48, 48)\n",
      "(22967, 7)\n",
      "(5742, 7)\n"
     ]
    }
   ],
   "source": [
    "print(X_train.shape)\n",
    "print(X_test.shape)\n",
    "print(Y_train.shape)\n",
    "print(Y_test.shape)"
   ]
  },
  {
   "cell_type": "code",
   "execution_count": 25,
   "id": "83018991",
   "metadata": {},
   "outputs": [
    {
     "data": {
      "image/png": "[encoded data removed]",
      "text/plain": [
       "<Figure size 432x288 with 1 Axes>"
      ]
     },
     "metadata": {
      "needs_background": "light"
     },
     "output_type": "display_data"
    },
    {
     "name": "stdout",
     "output_type": "stream",
     "text": [
      "[0. 0. 0. 0. 1. 0. 0.]\n"
     ]
    }
   ],
   "source": [
    "show_image(227, X_train, Y_train)"
   ]
  },
  {
   "cell_type": "code",
   "execution_count": 26,
   "id": "8aae29ab",
   "metadata": {},
   "outputs": [
    {
     "data": {
      "image/png": "[encoded data removed]",
      "text/plain": [
       "<Figure size 432x288 with 1 Axes>"
      ]
     },
     "metadata": {
      "needs_background": "light"
     },
     "output_type": "display_data"
    },
    {
     "name": "stdout",
     "output_type": "stream",
     "text": [
      "[0. 0. 0. 0. 1. 0. 0.]\n"
     ]
    }
   ],
   "source": [
    "show_image(2222, X_test, Y_test)"
   ]
  },
  {
   "cell_type": "code",
   "execution_count": 27,
   "id": "a78a2988",
   "metadata": {},
   "outputs": [
    {
     "data": {
      "text/plain": [
       "array([[171, 177, 180, ..., 204, 202, 199],\n",
       "       [174, 176, 182, ..., 202, 203, 201],\n",
       "       [169, 173, 178, ..., 198, 194, 199],\n",
       "       ...,\n",
       "       [  5,   6,   8, ...,  15,  20,  18],\n",
       "       [  5,   7,   8, ...,  15,  20,  18],\n",
       "       [  5,   7,   8, ...,  16,  21,  18]], dtype=uint8)"
      ]
     },
     "execution_count": 27,
     "metadata": {},
     "output_type": "execute_result"
    }
   ],
   "source": [
    "X_train[0]"
   ]
  },
  {
   "cell_type": "markdown",
   "id": "02f577cd",
   "metadata": {},
   "source": [
    "# Conversion in float"
   ]
  },
  {
   "cell_type": "code",
   "execution_count": 28,
   "id": "ffa04f15",
   "metadata": {},
   "outputs": [],
   "source": [
    "X_train = np.array(X_train, 'float32')\n",
    "X_test = np.array(X_test, 'float32')\n",
    "Y_train = np.array(Y_train, 'float32')\n",
    "Y_test = np.array(Y_test, 'float32')"
   ]
  },
  {
   "cell_type": "code",
   "execution_count": 29,
   "id": "02fd7d03",
   "metadata": {},
   "outputs": [],
   "source": [
    "from keras.models import Sequential\n",
    "from keras.layers import Conv2D, MaxPooling2D, Dense, Dropout, Flatten, Activation\n",
    "from keras.layers import BatchNormalization"
   ]
  },
  {
   "cell_type": "code",
   "execution_count": 30,
   "id": "45b2dee7",
   "metadata": {},
   "outputs": [
    {
     "data": {
      "text/plain": [
       "array([[171., 177., 180., ..., 204., 202., 199.],\n",
       "       [174., 176., 182., ..., 202., 203., 201.],\n",
       "       [169., 173., 178., ..., 198., 194., 199.],\n",
       "       ...,\n",
       "       [  5.,   6.,   8., ...,  15.,  20.,  18.],\n",
       "       [  5.,   7.,   8., ...,  15.,  20.,  18.],\n",
       "       [  5.,   7.,   8., ...,  16.,  21.,  18.]], dtype=float32)"
      ]
     },
     "execution_count": 30,
     "metadata": {},
     "output_type": "execute_result"
    }
   ],
   "source": [
    "X_train[0]"
   ]
  },
  {
   "cell_type": "code",
   "execution_count": 31,
   "id": "7f7490fe",
   "metadata": {},
   "outputs": [],
   "source": [
    "X_train = X_train - np.min(X_train)\n",
    "X_train = X_train / np.max(X_train)"
   ]
  },
  {
   "cell_type": "code",
   "execution_count": 32,
   "id": "0f58e42e",
   "metadata": {},
   "outputs": [],
   "source": [
    "X_test = X_test - np.min(X_test)\n",
    "X_test = X_test / np.max(X_test)"
   ]
  },
  {
   "cell_type": "code",
   "execution_count": 33,
   "id": "5865dff8",
   "metadata": {},
   "outputs": [],
   "source": [
    "# Normalize data between 0 and 1\n",
    "# X_train -= np.mean(X_train, axis = 0)\n",
    "# X_train /= np.std(X_train, axis = 0)\n",
    "\n",
    "# X_test -= np.mean(X_test, axis = 0)\n",
    "# X_test /= np.std(X_test, axis = 0)"
   ]
  },
  {
   "cell_type": "code",
   "execution_count": 34,
   "id": "0d293578",
   "metadata": {},
   "outputs": [
    {
     "data": {
      "text/plain": [
       "array([[0.67058825, 0.69411767, 0.7058824 , ..., 0.8       , 0.7921569 ,\n",
       "        0.78039217],\n",
       "       [0.68235296, 0.6901961 , 0.7137255 , ..., 0.7921569 , 0.79607844,\n",
       "        0.7882353 ],\n",
       "       [0.6627451 , 0.6784314 , 0.69803923, ..., 0.7764706 , 0.7607843 ,\n",
       "        0.78039217],\n",
       "       ...,\n",
       "       [0.01960784, 0.02352941, 0.03137255, ..., 0.05882353, 0.07843138,\n",
       "        0.07058824],\n",
       "       [0.01960784, 0.02745098, 0.03137255, ..., 0.05882353, 0.07843138,\n",
       "        0.07058824],\n",
       "       [0.01960784, 0.02745098, 0.03137255, ..., 0.0627451 , 0.08235294,\n",
       "        0.07058824]], dtype=float32)"
      ]
     },
     "execution_count": 34,
     "metadata": {},
     "output_type": "execute_result"
    }
   ],
   "source": [
    "X_train[0]"
   ]
  },
  {
   "cell_type": "code",
   "execution_count": 35,
   "id": "7343f488",
   "metadata": {},
   "outputs": [
    {
     "data": {
      "text/plain": [
       "array([[[[0.85882354],\n",
       "         [0.85882354],\n",
       "         [0.85882354],\n",
       "         ...,\n",
       "         [0.87058824],\n",
       "         [0.87058824],\n",
       "         [0.8392157 ]],\n",
       "\n",
       "        [[0.8627451 ],\n",
       "         [0.85490197],\n",
       "         [0.8392157 ],\n",
       "         ...,\n",
       "         [0.8627451 ],\n",
       "         [0.85490197],\n",
       "         [0.8235294 ]],\n",
       "\n",
       "        [[0.84705883],\n",
       "         [0.8745098 ],\n",
       "         [0.827451  ],\n",
       "         ...,\n",
       "         [0.87058824],\n",
       "         [0.8509804 ],\n",
       "         [0.8039216 ]],\n",
       "\n",
       "        ...,\n",
       "\n",
       "        [[0.17254902],\n",
       "         [0.1764706 ],\n",
       "         [0.1764706 ],\n",
       "         ...,\n",
       "         [0.8156863 ],\n",
       "         [0.8117647 ],\n",
       "         [0.8156863 ]],\n",
       "\n",
       "        [[0.18039216],\n",
       "         [0.18039216],\n",
       "         [0.18039216],\n",
       "         ...,\n",
       "         [0.8156863 ],\n",
       "         [0.8156863 ],\n",
       "         [0.8156863 ]],\n",
       "\n",
       "        [[0.18431373],\n",
       "         [0.18039216],\n",
       "         [0.18431373],\n",
       "         ...,\n",
       "         [0.8156863 ],\n",
       "         [0.81960785],\n",
       "         [0.8156863 ]]],\n",
       "\n",
       "\n",
       "       [[[0.6117647 ],\n",
       "         [0.60784316],\n",
       "         [0.6156863 ],\n",
       "         ...,\n",
       "         [0.01568628],\n",
       "         [0.01568628],\n",
       "         [0.07058824]],\n",
       "\n",
       "        [[0.6117647 ],\n",
       "         [0.59607846],\n",
       "         [0.5764706 ],\n",
       "         ...,\n",
       "         [0.01960784],\n",
       "         [0.02745098],\n",
       "         [0.03137255]],\n",
       "\n",
       "        [[0.5764706 ],\n",
       "         [0.57254905],\n",
       "         [0.5411765 ],\n",
       "         ...,\n",
       "         [0.02745098],\n",
       "         [0.01176471],\n",
       "         [0.02352941]],\n",
       "\n",
       "        ...,\n",
       "\n",
       "        [[0.6117647 ],\n",
       "         [0.5803922 ],\n",
       "         [0.69411767],\n",
       "         ...,\n",
       "         [0.5686275 ],\n",
       "         [0.2627451 ],\n",
       "         [0.01176471]],\n",
       "\n",
       "        [[0.6117647 ],\n",
       "         [0.58431375],\n",
       "         [0.7294118 ],\n",
       "         ...,\n",
       "         [0.59607846],\n",
       "         [0.28627452],\n",
       "         [0.        ]],\n",
       "\n",
       "        [[0.6       ],\n",
       "         [0.5921569 ],\n",
       "         [0.77254903],\n",
       "         ...,\n",
       "         [0.5686275 ],\n",
       "         [0.34509805],\n",
       "         [0.00392157]]],\n",
       "\n",
       "\n",
       "       [[[0.18431373],\n",
       "         [0.1254902 ],\n",
       "         [0.02352941],\n",
       "         ...,\n",
       "         [0.21960784],\n",
       "         [0.24313726],\n",
       "         [0.2509804 ]],\n",
       "\n",
       "        [[0.14901961],\n",
       "         [0.10980392],\n",
       "         [0.03529412],\n",
       "         ...,\n",
       "         [0.20784314],\n",
       "         [0.23921569],\n",
       "         [0.24313726]],\n",
       "\n",
       "        [[0.10980392],\n",
       "         [0.07843138],\n",
       "         [0.04313726],\n",
       "         ...,\n",
       "         [0.20784314],\n",
       "         [0.21960784],\n",
       "         [0.21960784]],\n",
       "\n",
       "        ...,\n",
       "\n",
       "        [[1.        ],\n",
       "         [0.9764706 ],\n",
       "         [1.        ],\n",
       "         ...,\n",
       "         [0.42352942],\n",
       "         [0.39215687],\n",
       "         [0.39215687]],\n",
       "\n",
       "        [[1.        ],\n",
       "         [1.        ],\n",
       "         [0.99607843],\n",
       "         ...,\n",
       "         [0.4392157 ],\n",
       "         [0.3764706 ],\n",
       "         [0.3137255 ]],\n",
       "\n",
       "        [[0.99215686],\n",
       "         [0.99607843],\n",
       "         [1.        ],\n",
       "         ...,\n",
       "         [0.34509805],\n",
       "         [0.24705882],\n",
       "         [0.3254902 ]]],\n",
       "\n",
       "\n",
       "       ...,\n",
       "\n",
       "\n",
       "       [[[0.09411765],\n",
       "         [0.09411765],\n",
       "         [0.26666668],\n",
       "         ...,\n",
       "         [0.7490196 ],\n",
       "         [0.7176471 ],\n",
       "         [0.8156863 ]],\n",
       "\n",
       "        [[0.08627451],\n",
       "         [0.16078432],\n",
       "         [0.43529412],\n",
       "         ...,\n",
       "         [0.78431374],\n",
       "         [0.72156864],\n",
       "         [0.74509805]],\n",
       "\n",
       "        [[0.10980392],\n",
       "         [0.2509804 ],\n",
       "         [0.59607846],\n",
       "         ...,\n",
       "         [0.6431373 ],\n",
       "         [0.6784314 ],\n",
       "         [0.7490196 ]],\n",
       "\n",
       "        ...,\n",
       "\n",
       "        [[0.60784316],\n",
       "         [0.5568628 ],\n",
       "         [0.5568628 ],\n",
       "         ...,\n",
       "         [0.15294118],\n",
       "         [0.2       ],\n",
       "         [0.20784314]],\n",
       "\n",
       "        [[0.3647059 ],\n",
       "         [0.4117647 ],\n",
       "         [0.29411766],\n",
       "         ...,\n",
       "         [0.3019608 ],\n",
       "         [0.22745098],\n",
       "         [0.42745098]],\n",
       "\n",
       "        [[0.05098039],\n",
       "         [0.05882353],\n",
       "         [0.04313726],\n",
       "         ...,\n",
       "         [0.2509804 ],\n",
       "         [0.25882354],\n",
       "         [0.3764706 ]]],\n",
       "\n",
       "\n",
       "       [[[0.9372549 ],\n",
       "         [0.99215686],\n",
       "         [0.5529412 ],\n",
       "         ...,\n",
       "         [0.09019608],\n",
       "         [0.15686275],\n",
       "         [0.19215687]],\n",
       "\n",
       "        [[0.972549  ],\n",
       "         [0.9098039 ],\n",
       "         [0.36078432],\n",
       "         ...,\n",
       "         [0.08627451],\n",
       "         [0.10980392],\n",
       "         [0.1764706 ]],\n",
       "\n",
       "        [[0.96862745],\n",
       "         [0.78431374],\n",
       "         [0.22352941],\n",
       "         ...,\n",
       "         [0.08627451],\n",
       "         [0.07843138],\n",
       "         [0.14509805]],\n",
       "\n",
       "        ...,\n",
       "\n",
       "        [[0.96862745],\n",
       "         [0.9843137 ],\n",
       "         [0.9843137 ],\n",
       "         ...,\n",
       "         [0.20784314],\n",
       "         [0.07450981],\n",
       "         [0.11764706]],\n",
       "\n",
       "        [[1.        ],\n",
       "         [0.98039216],\n",
       "         [0.9372549 ],\n",
       "         ...,\n",
       "         [0.10196079],\n",
       "         [0.10196079],\n",
       "         [0.10588235]],\n",
       "\n",
       "        [[0.7254902 ],\n",
       "         [0.43137255],\n",
       "         [0.20784314],\n",
       "         ...,\n",
       "         [0.07450981],\n",
       "         [0.10196079],\n",
       "         [0.07058824]]],\n",
       "\n",
       "\n",
       "       [[[0.12941177],\n",
       "         [0.06666667],\n",
       "         [0.09019608],\n",
       "         ...,\n",
       "         [0.38039216],\n",
       "         [0.32156864],\n",
       "         [0.23921569]],\n",
       "\n",
       "        [[0.09411765],\n",
       "         [0.06666667],\n",
       "         [0.14117648],\n",
       "         ...,\n",
       "         [0.42745098],\n",
       "         [0.5411765 ],\n",
       "         [0.5019608 ]],\n",
       "\n",
       "        [[0.07843138],\n",
       "         [0.07058824],\n",
       "         [0.16078432],\n",
       "         ...,\n",
       "         [0.29411766],\n",
       "         [0.36862746],\n",
       "         [0.4745098 ]],\n",
       "\n",
       "        ...,\n",
       "\n",
       "        [[0.03137255],\n",
       "         [0.        ],\n",
       "         [0.02352941],\n",
       "         ...,\n",
       "         [0.02352941],\n",
       "         [0.00784314],\n",
       "         [0.01568628]],\n",
       "\n",
       "        [[0.03529412],\n",
       "         [0.01176471],\n",
       "         [0.01568628],\n",
       "         ...,\n",
       "         [0.01960784],\n",
       "         [0.01176471],\n",
       "         [0.        ]],\n",
       "\n",
       "        [[0.02352941],\n",
       "         [0.03137255],\n",
       "         [0.01176471],\n",
       "         ...,\n",
       "         [0.02745098],\n",
       "         [0.01568628],\n",
       "         [0.        ]]]], dtype=float32)"
      ]
     },
     "execution_count": 35,
     "metadata": {},
     "output_type": "execute_result"
    }
   ],
   "source": [
    "X_train.reshape(X_train.shape[0], 48, 48, 1)\n",
    "X_test.reshape(X_test.shape[0], 48, 48, 1)"
   ]
  },
  {
   "cell_type": "code",
   "execution_count": 36,
   "id": "5811fba5",
   "metadata": {},
   "outputs": [
    {
     "name": "stdout",
     "output_type": "stream",
     "text": [
      "(22967, 48, 48)\n",
      "(22967, 7)\n",
      "(5742, 48, 48)\n",
      "(5742, 7)\n"
     ]
    }
   ],
   "source": [
    "print(X_train.shape)\n",
    "print(Y_train.shape)\n",
    "print(X_test.shape)\n",
    "print(Y_test.shape)"
   ]
  },
  {
   "cell_type": "code",
   "execution_count": 37,
   "id": "23583241",
   "metadata": {},
   "outputs": [],
   "source": [
    "from keras.models import Sequential\n",
    "from keras.layers import Conv2D, MaxPooling2D, Dense, Dropout, Flatten, Activation\n",
    "from keras.layers import BatchNormalization"
   ]
  },
  {
   "cell_type": "code",
   "execution_count": 38,
   "id": "461a1684",
   "metadata": {},
   "outputs": [],
   "source": [
    "num_features = 64\n",
    "num_labels = 7\n",
    "batch_size = 64\n",
    "width = 48\n",
    "height = 48"
   ]
  },
  {
   "cell_type": "markdown",
   "id": "b3ad8083",
   "metadata": {},
   "source": [
    "# Layers Formation"
   ]
  },
  {
   "cell_type": "code",
   "execution_count": 39,
   "id": "bd85e2af",
   "metadata": {},
   "outputs": [
    {
     "name": "stdout",
     "output_type": "stream",
     "text": [
      "Model: \"sequential\"\n",
      "_________________________________________________________________\n",
      " Layer (type)                Output Shape              Param #   \n",
      "=================================================================\n",
      " conv2d (Conv2D)             (None, 48, 48, 64)        1664      \n",
      "                                                                 \n",
      " batch_normalization (BatchN  (None, 48, 48, 64)       256       \n",
      " ormalization)                                                   \n",
      "                                                                 \n",
      " activation (Activation)     (None, 48, 48, 64)        0         \n",
      "                                                                 \n",
      " max_pooling2d (MaxPooling2D  (None, 24, 24, 64)       0         \n",
      " )                                                               \n",
      "                                                                 \n",
      " conv2d_1 (Conv2D)           (None, 24, 24, 128)       204928    \n",
      "                                                                 \n",
      " batch_normalization_1 (Batc  (None, 24, 24, 128)      512       \n",
      " hNormalization)                                                 \n",
      "                                                                 \n",
      " activation_1 (Activation)   (None, 24, 24, 128)       0         \n",
      "                                                                 \n",
      " max_pooling2d_1 (MaxPooling  (None, 12, 12, 128)      0         \n",
      " 2D)                                                             \n",
      "                                                                 \n",
      " conv2d_2 (Conv2D)           (None, 12, 12, 256)       819456    \n",
      "                                                                 \n",
      " batch_normalization_2 (Batc  (None, 12, 12, 256)      1024      \n",
      " hNormalization)                                                 \n",
      "                                                                 \n",
      " activation_2 (Activation)   (None, 12, 12, 256)       0         \n",
      "                                                                 \n",
      " max_pooling2d_2 (MaxPooling  (None, 6, 6, 256)        0         \n",
      " 2D)                                                             \n",
      "                                                                 \n",
      " flatten (Flatten)           (None, 9216)              0         \n",
      "                                                                 \n",
      " dense (Dense)               (None, 256)               2359552   \n",
      "                                                                 \n",
      " batch_normalization_3 (Batc  (None, 256)              1024      \n",
      " hNormalization)                                                 \n",
      "                                                                 \n",
      " activation_3 (Activation)   (None, 256)               0         \n",
      "                                                                 \n",
      " dense_1 (Dense)             (None, 128)               32896     \n",
      "                                                                 \n",
      " batch_normalization_4 (Batc  (None, 128)              512       \n",
      " hNormalization)                                                 \n",
      "                                                                 \n",
      " activation_4 (Activation)   (None, 128)               0         \n",
      "                                                                 \n",
      " dense_2 (Dense)             (None, 64)                8256      \n",
      "                                                                 \n",
      " batch_normalization_5 (Batc  (None, 64)               256       \n",
      " hNormalization)                                                 \n",
      "                                                                 \n",
      " activation_5 (Activation)   (None, 64)                0         \n",
      "                                                                 \n",
      " dense_3 (Dense)             (None, 7)                 455       \n",
      "                                                                 \n",
      "=================================================================\n",
      "Total params: 3,430,791\n",
      "Trainable params: 3,428,999\n",
      "Non-trainable params: 1,792\n",
      "_________________________________________________________________\n"
     ]
    }
   ],
   "source": [
    "model = Sequential()\n",
    "\n",
    "model.add(Conv2D(64,(5, 5),padding = 'same', input_shape = (48,48,1)))\n",
    "model.add(BatchNormalization())\n",
    "model.add(Activation('relu'))\n",
    "model.add(MaxPooling2D(pool_size = (2,2)))\n",
    "\n",
    "model.add(Conv2D(128,(5, 5),padding = 'same'))\n",
    "model.add(BatchNormalization())\n",
    "model.add(Activation('relu'))\n",
    "model.add(MaxPooling2D(pool_size = (2,2)))\n",
    "\n",
    "model.add(Conv2D(256,(5, 5), padding='same'))\n",
    "model.add(BatchNormalization())\n",
    "model.add(Activation('relu'))\n",
    "model.add(MaxPooling2D(pool_size=(2, 2)))\n",
    "model.add(Flatten())\n",
    "\n",
    "model.add(Dense(256))\n",
    "model.add(BatchNormalization())\n",
    "model.add(Activation('relu'))\n",
    "\n",
    "model.add(Dense(128))\n",
    "model.add(BatchNormalization())\n",
    "model.add(Activation('relu'))\n",
    "\n",
    "model.add(Dense(64))\n",
    "model.add(BatchNormalization())\n",
    "model.add(Activation('relu'))\n",
    "\n",
    "model.add(Dense(num_labels, activation='softmax'))\n",
    "\n",
    "model.summary()"
   ]
  },
  {
   "cell_type": "code",
   "execution_count": 40,
   "id": "aa82a85d",
   "metadata": {},
   "outputs": [],
   "source": [
    "# compliing the model\n",
    "model.compile(loss = 'categorical_crossentropy', optimizer = 'sgd', metrics=['accuracy'])"
   ]
  },
  {
   "cell_type": "markdown",
   "id": "cea74948",
   "metadata": {},
   "source": [
    "# Model training and testing"
   ]
  },
  {
   "cell_type": "code",
   "execution_count": 41,
   "id": "2de59abe",
   "metadata": {
    "scrolled": true
   },
   "outputs": [
    {
     "name": "stdout",
     "output_type": "stream",
     "text": [
      "Epoch 1/20\n",
      "359/359 [==============================] - 218s 604ms/step - loss: 1.6980 - accuracy: 0.3447 - val_loss: 1.7649 - val_accuracy: 0.3027\n",
      "Epoch 2/20\n",
      "359/359 [==============================] - 215s 598ms/step - loss: 1.4324 - accuracy: 0.4542 - val_loss: 1.5324 - val_accuracy: 0.3966\n",
      "Epoch 3/20\n",
      "359/359 [==============================] - 257s 717ms/step - loss: 1.2671 - accuracy: 0.5227 - val_loss: 1.5931 - val_accuracy: 0.3739\n",
      "Epoch 4/20\n",
      "359/359 [==============================] - 262s 728ms/step - loss: 1.1222 - accuracy: 0.5874 - val_loss: 1.4109 - val_accuracy: 0.4577\n",
      "Epoch 5/20\n",
      "359/359 [==============================] - 265s 738ms/step - loss: 0.9870 - accuracy: 0.6469 - val_loss: 1.5675 - val_accuracy: 0.4157\n",
      "Epoch 6/20\n",
      "359/359 [==============================] - 260s 724ms/step - loss: 0.8468 - accuracy: 0.7055 - val_loss: 1.5139 - val_accuracy: 0.4511\n",
      "Epoch 7/20\n",
      "359/359 [==============================] - 262s 729ms/step - loss: 0.7026 - accuracy: 0.7647 - val_loss: 1.8335 - val_accuracy: 0.3687\n",
      "Epoch 8/20\n",
      "359/359 [==============================] - 260s 724ms/step - loss: 0.5602 - accuracy: 0.8219 - val_loss: 1.5463 - val_accuracy: 0.4831\n",
      "Epoch 9/20\n",
      "359/359 [==============================] - 264s 735ms/step - loss: 0.4408 - accuracy: 0.8650 - val_loss: 1.6370 - val_accuracy: 0.4723\n",
      "Epoch 10/20\n",
      "359/359 [==============================] - 261s 727ms/step - loss: 0.3186 - accuracy: 0.9106 - val_loss: 1.6818 - val_accuracy: 0.4904\n",
      "Epoch 11/20\n",
      "359/359 [==============================] - 270s 750ms/step - loss: 0.2300 - accuracy: 0.9419 - val_loss: 1.6195 - val_accuracy: 0.4932\n",
      "Epoch 12/20\n",
      "359/359 [==============================] - 238s 664ms/step - loss: 0.1613 - accuracy: 0.9646 - val_loss: 1.8493 - val_accuracy: 0.4838\n",
      "Epoch 13/20\n",
      "359/359 [==============================] - 211s 587ms/step - loss: 0.1073 - accuracy: 0.9804 - val_loss: 1.7056 - val_accuracy: 0.5206\n",
      "Epoch 14/20\n",
      "359/359 [==============================] - 226s 629ms/step - loss: 0.0772 - accuracy: 0.9880 - val_loss: 1.9243 - val_accuracy: 0.4808\n",
      "Epoch 15/20\n",
      "359/359 [==============================] - 248s 690ms/step - loss: 0.0554 - accuracy: 0.9927 - val_loss: 1.7873 - val_accuracy: 0.5279\n",
      "Epoch 16/20\n",
      "359/359 [==============================] - 200s 558ms/step - loss: 0.0428 - accuracy: 0.9942 - val_loss: 1.9605 - val_accuracy: 0.5138\n",
      "Epoch 17/20\n",
      "359/359 [==============================] - 200s 556ms/step - loss: 0.0346 - accuracy: 0.9952 - val_loss: 1.8932 - val_accuracy: 0.5359\n",
      "Epoch 18/20\n",
      "359/359 [==============================] - 198s 553ms/step - loss: 0.0292 - accuracy: 0.9957 - val_loss: 1.7603 - val_accuracy: 0.5456\n",
      "Epoch 19/20\n",
      "359/359 [==============================] - 204s 568ms/step - loss: 0.0221 - accuracy: 0.9969 - val_loss: 1.8507 - val_accuracy: 0.5333\n",
      "Epoch 20/20\n",
      "359/359 [==============================] - 203s 564ms/step - loss: 0.0202 - accuracy: 0.9970 - val_loss: 1.8736 - val_accuracy: 0.5387\n"
     ]
    }
   ],
   "source": [
    "h = model.fit(X_train, Y_train, batch_size = batch_size, epochs = 20, verbose = 1, validation_data = (X_test, Y_test), shuffle = True)"
   ]
  },
  {
   "cell_type": "code",
   "execution_count": 42,
   "id": "160bea05",
   "metadata": {},
   "outputs": [],
   "source": [
    "model.save('MODEL/forEpochs_20.h5')"
   ]
  },
  {
   "cell_type": "markdown",
   "id": "499b2c76",
   "metadata": {},
   "source": [
    "# Plotting Accuracy and Loss "
   ]
  },
  {
   "cell_type": "code",
   "execution_count": 43,
   "id": "2309376a",
   "metadata": {},
   "outputs": [
    {
     "data": {
      "image/png": "[encoded data removed]",
      "text/plain": [
       "<Figure size 1440x720 with 2 Axes>"
      ]
     },
     "metadata": {},
     "output_type": "display_data"
    }
   ],
   "source": [
    "plt.style.use('dark_background')\n",
    "\n",
    "plt.figure(figsize=(20,10))\n",
    "plt.subplot(1, 2, 1)\n",
    "plt.suptitle('Optimizer : SGD', fontsize=10)\n",
    "plt.ylabel('Loss', fontsize=16)\n",
    "plt.plot(h.history['loss'], label='Training Loss')\n",
    "plt.plot(h.history['val_loss'], label='Validation Loss')\n",
    "plt.legend(loc='upper right')\n",
    "\n",
    "plt.subplot(1, 2, 2)\n",
    "plt.ylabel('Accuracy', fontsize=16)\n",
    "plt.plot(h.history['accuracy'], label='Training Accuracy')\n",
    "plt.plot(h.history['val_accuracy'], label='Validation Accuracy')\n",
    "plt.legend(loc='lower right')\n",
    "plt.show()"
   ]
  },
  {
   "cell_type": "code",
   "execution_count": null,
   "id": "7beaa252",
   "metadata": {},
   "outputs": [],
   "source": []
  },
  {
   "cell_type": "code",
   "execution_count": 45,
   "id": "9c6727fd",
   "metadata": {},
   "outputs": [],
   "source": [
    "from keras.models import load_model"
   ]
  },
  {
   "cell_type": "code",
   "execution_count": 46,
   "id": "049c9b4d",
   "metadata": {},
   "outputs": [],
   "source": [
    "classifier = load_model('MODEL/Emotional_Model.h5')"
   ]
  },
  {
   "cell_type": "code",
   "execution_count": 47,
   "id": "453b76cb",
   "metadata": {},
   "outputs": [
    {
     "name": "stdout",
     "output_type": "stream",
     "text": [
      "(22967, 48, 48)\n",
      "(5742, 48, 48)\n",
      "(22967, 7)\n",
      "(5742, 7)\n"
     ]
    }
   ],
   "source": [
    "print(X_train.shape)\n",
    "print(X_test.shape)\n",
    "print(Y_train.shape)\n",
    "print(Y_test.shape)"
   ]
  },
  {
   "cell_type": "code",
   "execution_count": 48,
   "id": "868a7596",
   "metadata": {},
   "outputs": [
    {
     "data": {
      "text/plain": [
       "array([[0.85882354, 0.85882354, 0.85882354, ..., 0.87058824, 0.87058824,\n",
       "        0.8392157 ],\n",
       "       [0.8627451 , 0.85490197, 0.8392157 , ..., 0.8627451 , 0.85490197,\n",
       "        0.8235294 ],\n",
       "       [0.84705883, 0.8745098 , 0.827451  , ..., 0.87058824, 0.8509804 ,\n",
       "        0.8039216 ],\n",
       "       ...,\n",
       "       [0.17254902, 0.1764706 , 0.1764706 , ..., 0.8156863 , 0.8117647 ,\n",
       "        0.8156863 ],\n",
       "       [0.18039216, 0.18039216, 0.18039216, ..., 0.8156863 , 0.8156863 ,\n",
       "        0.8156863 ],\n",
       "       [0.18431373, 0.18039216, 0.18431373, ..., 0.8156863 , 0.81960785,\n",
       "        0.8156863 ]], dtype=float32)"
      ]
     },
     "execution_count": 48,
     "metadata": {},
     "output_type": "execute_result"
    }
   ],
   "source": [
    "X_test[0]"
   ]
  },
  {
   "cell_type": "code",
   "execution_count": 49,
   "id": "2afead3a",
   "metadata": {},
   "outputs": [],
   "source": [
    "emotions = {'angry' : 0, 'disgust': 1, 'fear' : 2, 'happy' : 3, 'neutral': 4, 'sad' : 5, 'surprise' : 6}"
   ]
  },
  {
   "cell_type": "code",
   "execution_count": 50,
   "id": "fc947f3b",
   "metadata": {},
   "outputs": [
    {
     "data": {
      "text/plain": [
       "array([0., 0., 0., 0., 1., 0., 0.], dtype=float32)"
      ]
     },
     "execution_count": 50,
     "metadata": {},
     "output_type": "execute_result"
    },
    {
     "data": {
      "image/png": "[encoded data removed]",
      "text/plain": [
       "<Figure size 432x288 with 1 Axes>"
      ]
     },
     "metadata": {},
     "output_type": "display_data"
    }
   ],
   "source": [
    "plt.imshow(X_train[7000])\n",
    "Y_train[7000]"
   ]
  },
  {
   "cell_type": "code",
   "execution_count": 51,
   "id": "2783a021",
   "metadata": {},
   "outputs": [
    {
     "data": {
      "text/plain": [
       "array([1., 0., 0., 0., 0., 0., 0.], dtype=float32)"
      ]
     },
     "execution_count": 51,
     "metadata": {},
     "output_type": "execute_result"
    },
    {
     "data": {
      "image/png": "[encoded data removed]",
      "text/plain": [
       "<Figure size 432x288 with 1 Axes>"
      ]
     },
     "metadata": {},
     "output_type": "display_data"
    }
   ],
   "source": [
    "plt.imshow(X_test[2])\n",
    "Y_test[2]"
   ]
  },
  {
   "cell_type": "code",
   "execution_count": 52,
   "id": "d5744d17",
   "metadata": {},
   "outputs": [
    {
     "name": "stdout",
     "output_type": "stream",
     "text": [
      "718/718 [==============================] - 41s 57ms/step\n"
     ]
    }
   ],
   "source": [
    "prediction = classifier.predict(X_train)[2]"
   ]
  },
  {
   "cell_type": "code",
   "execution_count": 55,
   "id": "e784823c",
   "metadata": {
    "scrolled": true
   },
   "outputs": [
    {
     "name": "stdout",
     "output_type": "stream",
     "text": [
      "[0.00145725 0.00109941 0.718831   0.00634622 0.01221851 0.01960841\n",
      " 0.24043919]\n",
      "2\n"
     ]
    }
   ],
   "source": [
    "print(prediction)\n",
    "label = prediction.argmax()\n",
    "print(label)"
   ]
  },
  {
   "cell_type": "code",
   "execution_count": 56,
   "id": "6c9d80e5",
   "metadata": {},
   "outputs": [
    {
     "data": {
      "text/plain": [
       "array([[0., 0., 0., ..., 1., 0., 0.],\n",
       "       [0., 0., 1., ..., 0., 0., 0.],\n",
       "       [1., 0., 0., ..., 0., 0., 0.],\n",
       "       ...,\n",
       "       [0., 0., 0., ..., 0., 0., 0.],\n",
       "       [0., 0., 0., ..., 0., 1., 0.],\n",
       "       [0., 0., 0., ..., 0., 0., 1.]], dtype=float32)"
      ]
     },
     "execution_count": 56,
     "metadata": {},
     "output_type": "execute_result"
    }
   ],
   "source": [
    "Y_test[ : 500]"
   ]
  },
  {
   "cell_type": "code",
   "execution_count": null,
   "id": "9f333353",
   "metadata": {},
   "outputs": [],
   "source": []
  },
  {
   "cell_type": "code",
   "execution_count": null,
   "id": "8a942db7",
   "metadata": {},
   "outputs": [],
   "source": []
  }
 ],
 "metadata": {
  "kernelspec": {
   "display_name": "Python 3 (ipykernel)",
   "language": "python",
   "name": "python3"
  },
  "language_info": {
   "codemirror_mode": {
    "name": "ipython",
    "version": 3
   },
   "file_extension": ".py",
   "mimetype": "text/x-python",
   "name": "python",
   "nbconvert_exporter": "python",
   "pygments_lexer": "ipython3",
   "version": "3.9.12"
  }
 },
 "nbformat": 4,
 "nbformat_minor": 5
}
